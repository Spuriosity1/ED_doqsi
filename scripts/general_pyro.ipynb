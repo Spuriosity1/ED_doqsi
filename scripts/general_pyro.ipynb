{
 "cells": [
  {
   "cell_type": "code",
   "execution_count": 2,
   "id": "1334f141-2a9c-4540-af87-d54f0ec030a5",
   "metadata": {},
   "outputs": [],
   "source": [
    "from quspin.basis import spin_basis_general  # Hilbert space spin basis\n",
    "import numpy as np  # generic math functions\n",
    "from quspin.operators import quantum_operator, hamiltonian\n",
    "from quspin.tools import lanczos"
   ]
  },
  {
   "cell_type": "code",
   "execution_count": 3,
   "id": "9b5d50b5-445c-4c38-9701-b0d4aef83a6c",
   "metadata": {},
   "outputs": [],
   "source": [
    "import pyrochlore\n",
    "import visual\n",
    "import lattice\n",
    "import matplotlib.pyplot as plt\n",
    "from sympy import Matrix\n",
    "import itertools \n",
    "from tqdm import tqdm"
   ]
  },
  {
   "cell_type": "code",
   "execution_count": 4,
   "id": "d1253a48-57e4-4012-ab88-e18f5b5171b7",
   "metadata": {},
   "outputs": [],
   "source": [
    "def is_identity(p:list):\n",
    "    return all(x == j for (j,x) in enumerate(p))\n",
    "\n",
    "def perm_order(p:list):\n",
    "    order=1\n",
    "    tmp = [x for x in p]\n",
    "    while not is_identity(tmp):\n",
    "        tmp = [p[x] for x in tmp]\n",
    "        order += 1\n",
    "        if order > len(p):\n",
    "            raise Exception(\"perm is broken\")\n",
    "    return order"
   ]
  },
  {
   "cell_type": "code",
   "execution_count": 5,
   "id": "6f5d8fcb-09fd-4e59-b7e9-a2071394b6bc",
   "metadata": {},
   "outputs": [],
   "source": [
    "def construct_hamiltonian_spec(lat: lattice.Lattice, Jzz, Jpm, B):\n",
    "    Ising_opspec = []\n",
    "    xc_opspec = []\n",
    "    \n",
    "    for bond in lat.bonds:\n",
    "        Ising_opspec.append([Jzz, bond['from_idx'], bond['to_idx']])\n",
    "        xc_opspec.append([Jpm, bond['from_idx'], bond['to_idx']])\n",
    "    # gx_opspec = [[g, i] for i in range(L)]\n",
    "\n",
    "    return dict(\n",
    "        static =  [[\"zz\", Ising_opspec], [\"+-\", xc_opspec], [\"-+\", xc_opspec]],\n",
    "        lat = lat\n",
    "    )\n",
    "\n",
    "def get_symmetries(lat):\n",
    "    T1, T2, T3 = lat.get_transl_generators()\n",
    "    I = lat.get_inversion_perm([0,0,0])\n",
    "\n",
    "    syms = {\n",
    "        \"T1\": T1,\n",
    "        \"T2\": T2,\n",
    "        \"T3\": T3,\n",
    "        \"I\": I,\n",
    "        'P01': full_lat.get_refl_perm(origin=Matrix([0,1,1]), direction=Matrix([0,1,1]) ),\n",
    "        'P02': full_lat.get_refl_perm(origin=Matrix([1,0,1]), direction=Matrix([1,0,1]) ),\n",
    "        'P03': full_lat.get_refl_perm(origin=Matrix([1,1,0]), direction=Matrix([1,1,0]) )\n",
    "    }\n",
    "\n",
    "    nontriv_syms = {}\n",
    "    for s in syms:\n",
    "        if not is_identity(syms[s]):\n",
    "            nontriv_syms[s] = syms[s]\n",
    "    return nontriv_syms\n",
    "    \n",
    "def calc_hamiltonian(hamspec, silent=False, **kwargs ):\n",
    "    \"\"\"\n",
    "    Calculates the actual sparse hamiltonian\n",
    "    @param hamspec -> output of construct_hamiltonian_spec\n",
    "    kwargs: pass in the form n_T_1 = n\n",
    "    \"\"\"\n",
    "    syms = get_symmetries(hamspec[\"lat\"])\n",
    "\n",
    "\n",
    "    args_to_spin_basis = {}\n",
    "    for k in kwargs:\n",
    "        if type(kwargs[k]) is not int:\n",
    "            raise \"kwargs specify rep, must start with 'k_' and be integer\"\n",
    "        if k in syms:\n",
    "            args_to_spin_basis[k+\"_block\"] = (syms[k],kwargs[k])\n",
    "            \n",
    "    \n",
    "    \n",
    "    basis = spin_basis_general(\n",
    "        hamspec[\"lat\"].num_atoms,\n",
    "         **args_to_spin_basis\n",
    "    )\n",
    "    if not silent:\n",
    "        print(\"basis dim: \", basis.Ns)\n",
    "    \n",
    "    ham_kwargs = {}\n",
    "    if silent:\n",
    "        ham_kwargs = dict(check_herm=False,check_symm=False)\n",
    "        \n",
    "    H = hamiltonian(hamspec[\"static\"], [], basis=basis, \n",
    "                    dtype=np.complex128,\n",
    "                    **ham_kwargs)\n",
    "                   \n",
    "    return basis, H\n",
    "\n",
    "\n"
   ]
  },
  {
   "cell_type": "code",
   "execution_count": 6,
   "id": "ecb7f996-ec7c-46f3-ac8a-d09ad010e8cb",
   "metadata": {},
   "outputs": [],
   "source": [
    "def diagonalise(basis, H, lat, krylov_dim=50):\n",
    "    v0 = np.random.normal(0, 1, size=basis.Ns)\n",
    "    \n",
    "    # m_GS = 150  # Krylov subspace dimension\n",
    "    #\n",
    "    # Lanczos finds the largest-magnitude eigenvalues:\n",
    "    E, V, Q_T = lanczos.lanczos_full(H, v0, krylov_dim, full_ortho=False)\n",
    "    # compute ground state vector\n",
    "    psi_GS_lanczos = lanczos.lin_comb_Q_T(V[:, 0], Q_T)\n",
    "    return E[0], psi_GS_lanczos\n",
    "\n",
    "def calc_ringflip(psi_GS_lanczos, lat):\n",
    "    ringflip_idx = pyrochlore.get_ringflips(lat)\n",
    "    \n",
    "    # ringflip_spec = hamiltonian([[\"+-+-+-\", [1.] +  ringflip_idx[0] ]],[])\n",
    "    static_rf = [[\"+-+-+-\", [[1/len(ringflip_idx)]+rf for rf in ringflip_idx ]]]\n",
    "    \n",
    "    sum_ringflip_op = hamiltonian(static_rf,[],basis=basis,check_herm=False,check_symm=False)\n",
    "    \n",
    "    return psi_GS_lanczos.dot(sum_ringflip_op.dot(psi_GS_lanczos))\n"
   ]
  },
  {
   "cell_type": "code",
   "execution_count": 7,
   "id": "0194af5c-3171-4795-a6b3-ead7e3ba8f38",
   "metadata": {},
   "outputs": [],
   "source": [
    "######################################\n",
    "###### CONSTANTS AND SETUP  ##########\n",
    "######################################\n",
    "\n",
    "\n",
    "Jpm_sweep = np.linspace(-0.1,0.2,20)\n",
    "\n",
    "cell =[[2,0,0],[0,2,0],[0,0,2]]\n",
    "\n",
    "full_lat = lattice.Lattice(pyrochlore.primitive, cell)\n",
    "\n",
    "coupling_consts = dict(\n",
    "        Jzz=1.0,\n",
    "        Jpm=None,\n",
    "        B=[0,0,0]\n",
    "    )                "
   ]
  },
  {
   "cell_type": "code",
   "execution_count": 8,
   "id": "ce782277-9c81-44d0-b4c0-d200540c6b37",
   "metadata": {},
   "outputs": [
    {
     "ename": "Exception",
     "evalue": "Too big mate",
     "output_type": "error",
     "traceback": [
      "\u001b[0;31m---------------------------------------------------------------------------\u001b[0m",
      "\u001b[0;31mException\u001b[0m                                 Traceback (most recent call last)",
      "Cell \u001b[0;32mIn[8], line 3\u001b[0m\n\u001b[1;32m      1\u001b[0m \u001b[38;5;66;03m### NAIVE DIAG\u001b[39;00m\n\u001b[1;32m      2\u001b[0m \u001b[38;5;28;01mif\u001b[39;00m full_lat\u001b[38;5;241m.\u001b[39mnum_atoms \u001b[38;5;241m>\u001b[39m \u001b[38;5;241m16\u001b[39m:\n\u001b[0;32m----> 3\u001b[0m     \u001b[38;5;28;01mraise\u001b[39;00m \u001b[38;5;167;01mException\u001b[39;00m(\u001b[38;5;124m\"\u001b[39m\u001b[38;5;124mToo big mate\u001b[39m\u001b[38;5;124m\"\u001b[39m)\n\u001b[1;32m      5\u001b[0m naive_ringflip_vals \u001b[38;5;241m=\u001b[39m []\n\u001b[1;32m      6\u001b[0m naive_energy \u001b[38;5;241m=\u001b[39m []\n",
      "\u001b[0;31mException\u001b[0m: Too big mate"
     ]
    }
   ],
   "source": [
    "### NAIVE DIAG\n",
    "if full_lat.num_atoms > 16:\n",
    "    raise Exception(\"Too big mate\")\n",
    "\n",
    "naive_ringflip_vals = []\n",
    "naive_energy = []\n",
    "\n",
    "for jpm in tqdm(Jpm_sweep):\n",
    "    coupling_consts[\"Jpm\"] = jpm\n",
    "    \n",
    "    hamspec = construct_hamiltonian_spec(full_lat, **coupling_consts)\n",
    "    basis, H = calc_hamiltonian(hamspec, silent=True)\n",
    "    E, psi_GS = diagonalise(basis, H, full_lat, krylov_dim=150)\n",
    "\n",
    "    naive_energy.append(E)\n",
    "    naive_ringflip_vals.append(calc_ringflip(psi_GS, full_lat))\n",
    "\n"
   ]
  },
  {
   "cell_type": "code",
   "execution_count": 9,
   "id": "f936a90f-c05d-490f-b357-86374e5add58",
   "metadata": {},
   "outputs": [
    {
     "name": "stdout",
     "output_type": "stream",
     "text": [
      "{'T1': [1, 0, 3, 2, 5, 4, 7, 6, 9, 8, 11, 10, 13, 12, 15, 14, 17, 16, 19, 18, 21, 20, 23, 22, 25, 24, 27, 26, 29, 28, 31, 30], 'T2': [2, 3, 0, 1, 6, 7, 4, 5, 10, 11, 8, 9, 14, 15, 12, 13, 18, 19, 16, 17, 22, 23, 20, 21, 26, 27, 24, 25, 30, 31, 28, 29], 'T3': [4, 5, 6, 7, 0, 1, 2, 3, 12, 13, 14, 15, 8, 9, 10, 11, 20, 21, 22, 23, 16, 17, 18, 19, 28, 29, 30, 31, 24, 25, 26, 27], 'I': [0, 1, 2, 3, 4, 5, 6, 7, 9, 8, 11, 10, 13, 12, 15, 14, 18, 19, 16, 17, 22, 23, 20, 21, 28, 29, 30, 31, 24, 25, 26, 27], 'P01': [8, 9, 11, 10, 13, 12, 14, 15, 0, 1, 3, 2, 5, 4, 6, 7, 16, 17, 19, 18, 21, 20, 22, 23, 24, 25, 27, 26, 29, 28, 30, 31], 'P02': [16, 19, 18, 17, 22, 21, 20, 23, 8, 11, 10, 9, 14, 13, 12, 15, 0, 3, 2, 1, 6, 5, 4, 7, 24, 27, 26, 25, 30, 29, 28, 31], 'P03': [24, 29, 30, 27, 28, 25, 26, 31, 8, 13, 14, 11, 12, 9, 10, 15, 16, 21, 22, 19, 20, 17, 18, 23, 0, 5, 6, 3, 4, 1, 2, 7]}\n"
     ]
    }
   ],
   "source": [
    "\n",
    "lattice_symmetries = get_symmetries(full_lat)\n",
    "print(lattice_symmetries)\n",
    "chosen_symmetries = {k: lattice_symmetries[k] for k in ['T1', 'T2', 'T3', 'I','P01']}"
   ]
  },
  {
   "cell_type": "code",
   "execution_count": 10,
   "id": "9968bc68-a195-4c17-b9d5-ee03c2a51041",
   "metadata": {
    "scrolled": true
   },
   "outputs": [
    {
     "name": "stdout",
     "output_type": "stream",
     "text": [
      "[(0, 0, 0, 0, 0), (0, 0, 0, 0, 1), (0, 0, 0, 1, 0), (0, 0, 0, 1, 1), (0, 0, 1, 0, 0), (0, 0, 1, 0, 1), (0, 0, 1, 1, 0), (0, 0, 1, 1, 1), (0, 1, 0, 0, 0), (0, 1, 0, 0, 1), (0, 1, 0, 1, 0), (0, 1, 0, 1, 1), (0, 1, 1, 0, 0), (0, 1, 1, 0, 1), (0, 1, 1, 1, 0), (0, 1, 1, 1, 1), (1, 0, 0, 0, 0), (1, 0, 0, 0, 1), (1, 0, 0, 1, 0), (1, 0, 0, 1, 1), (1, 0, 1, 0, 0), (1, 0, 1, 0, 1), (1, 0, 1, 1, 0), (1, 0, 1, 1, 1), (1, 1, 0, 0, 0), (1, 1, 0, 0, 1), (1, 1, 0, 1, 0), (1, 1, 0, 1, 1), (1, 1, 1, 0, 0), (1, 1, 1, 0, 1), (1, 1, 1, 1, 0), (1, 1, 1, 1, 1)]\n"
     ]
    },
    {
     "data": {
      "text/plain": [
       "[(0, 0, 0, 0, 0),\n",
       " (0, 0, 0, 0, 1),\n",
       " (0, 0, 0, 1, 0),\n",
       " (0, 0, 0, 1, 1),\n",
       " (0, 0, 1, 0, 0),\n",
       " (0, 0, 1, 0, 1)]"
      ]
     },
     "execution_count": 10,
     "metadata": {},
     "output_type": "execute_result"
    }
   ],
   "source": [
    "### SYMMETRY AWARE DIAGONALISATION\n",
    "\n",
    "# Diagonalise in each sector\n",
    "sectors = {}\n",
    "\n",
    "\n",
    "\n",
    "for symlabel in chosen_symmetries:\n",
    "    N = perm_order(lattice_symmetries[symlabel])\n",
    "    sectors[symlabel] = range(N)\n",
    "\n",
    "ringflip_vals = {}\n",
    "\n",
    "sector_list = [x for x in itertools.product(*sectors.values())]\n",
    "\n",
    "print(sector_list)\n",
    "\n",
    "chosen_sector_list = sector_list[0:6]\n",
    "chosen_sector_list"
   ]
  },
  {
   "cell_type": "code",
   "execution_count": null,
   "id": "838ee7c6-7f65-4513-9ebb-2b063046a871",
   "metadata": {
    "scrolled": true
   },
   "outputs": [
    {
     "name": "stdout",
     "output_type": "stream",
     "text": [
      "['T1', 'T2', 'T3', 'I', 'P01'] : (0, 0, 0, 0, 0)\n"
     ]
    },
    {
     "name": "stderr",
     "output_type": "stream",
     "text": [
      "  0%|                                                                                                                                                                                | 0/20 [00:00<?, ?it/s]/var/folders/zw/92jnrf1n0710vn256dpg6bsw0000gn/T/ipykernel_80841/273398490.py:53: GeneralBasisWarning: using non-commuting symmetries can lead to unwanted behaviour of general basis, make sure that quantum numbers are invariant under non-commuting symmetries!\n",
      "  basis = spin_basis_general(\n"
     ]
    },
    {
     "name": "stdout",
     "output_type": "stream",
     "text": [
      "basis dim:  134473792\n",
      "Hermiticity check passed!\n",
      "Symmetry checks passed!\n"
     ]
    }
   ],
   "source": [
    "for sector in chosen_sector_list:\n",
    "    print(list(sectors.keys()),\":\", sector)\n",
    "    ringflip_vals[sector] = []\n",
    "    for jpm in tqdm(Jpm_sweep):\n",
    "        coupling_consts[\"Jpm\"] = jpm\n",
    "        \n",
    "        hamspec = construct_hamiltonian_spec(full_lat, **coupling_consts)\n",
    "        \n",
    "        symmetry_evals = {k:v for k, v in zip(sectors.keys(), sector) }\n",
    "        basis, H = calc_hamiltonian(hamspec, silent=False, **symmetry_evals, Nup=16)\n",
    "        \n",
    "        E, psi_GS = diagonalise(basis, H, full_lat, krylov_dim = 150)\n",
    "\n",
    "        rf = calc_ringflip(psi_GS, full_lat)\n",
    "        \n",
    "        ringflip_vals[sector].append(dict(\n",
    "            energy=E,\n",
    "            ringflip=rf\n",
    "            ))"
   ]
  },
  {
   "cell_type": "code",
   "execution_count": 44,
   "id": "957e15f3-3de9-471f-83a8-ad791d463de4",
   "metadata": {},
   "outputs": [
    {
     "data": {
      "text/plain": [
       "(-25.0, -15.0)"
      ]
     },
     "execution_count": 44,
     "metadata": {},
     "output_type": "execute_result"
    },
    {
     "data": {
      "image/png": "[encoded data removed]",
      "text/plain": [
       "<Figure size 640x480 with 2 Axes>"
      ]
     },
     "metadata": {},
     "output_type": "display_data"
    }
   ],
   "source": [
    "fig, (ax1, ax2) = plt.subplots(nrows=2,sharex=True)\n",
    "\n",
    "for sector in ringflip_vals:\n",
    "    E = [x['energy'] for x in ringflip_vals[sector]]\n",
    "    rf = [x['ringflip'] for x in ringflip_vals[sector]]\n",
    "\n",
    "    ax1.plot(Jpm_sweep, np.real(rf), label=str(sector))\n",
    "    ax2.plot(Jpm_sweep, E, label=str(sector))\n",
    "\n",
    "ax1.plot(Jpm_sweep, np.real(naive_ringflip_vals), 'k:')\n",
    "ax2.plot(Jpm_sweep, naive_energy, 'k:')\n",
    "\n",
    "ax1.legend()\n",
    "ax2.legend()\n",
    "ax1.set_xlim([-0.1,0.2])\n",
    "ax2.set_ylim([-25,-15])\n"
   ]
  },
  {
   "cell_type": "code",
   "execution_count": null,
   "id": "741febb6-3629-4206-850d-74c9b9ab801c",
   "metadata": {},
   "outputs": [],
   "source": []
  }
 ],
 "metadata": {
  "kernelspec": {
   "display_name": "Python 3 (ipykernel)",
   "language": "python",
   "name": "python3"
  },
  "language_info": {
   "codemirror_mode": {
    "name": "ipython",
    "version": 3
   },
   "file_extension": ".py",
   "mimetype": "text/x-python",
   "name": "python",
   "nbconvert_exporter": "python",
   "pygments_lexer": "ipython3",
   "version": "3.12.5"
  }
 },
 "nbformat": 4,
 "nbformat_minor": 5
}
