{
 "cells": [
  {
   "cell_type": "code",
   "execution_count": 67,
   "id": "ee6f27ac-52b0-4307-8a0c-20a0ab58f618",
   "metadata": {},
   "outputs": [],
   "source": [
    "from quspin.basis import spin_basis_general  # Hilbert space spin basis\n",
    "import numpy as np  # generic math functions\n",
    "from quspin.operators import quantum_operator, hamiltonian\n"
   ]
  },
  {
   "cell_type": "code",
   "execution_count": 100,
   "id": "a514a15c-2d5f-4293-93f8-d30179e5280f",
   "metadata": {},
   "outputs": [],
   "source": [
    "J = -1.0  # spin=spin interaction\n",
    "g = 1.2  # magnetic field strength\n",
    "\n",
    "L = 6\n",
    "\n",
    "#\n",
    "###### setting up user-defined symmetry transformations for 1d lattice ######\n",
    "s = np.arange(L)  # sites [0,1,2,....]\n",
    "T_x = (s + 1) % L \n",
    "P_x = s[::-1]\n"
   ]
  },
  {
   "cell_type": "code",
   "execution_count": 101,
   "id": "14050cae-bf66-451e-ba6a-9abc69775cbf",
   "metadata": {},
   "outputs": [
    {
     "name": "stdout",
     "output_type": "stream",
     "text": [
      "Hermiticity check passed!\n",
      "Symmetry checks passed!\n",
      "Hermiticity check passed!\n",
      "Symmetry checks passed!\n",
      "Hermiticity check passed!\n",
      "Symmetry checks passed!\n",
      "ground state mfld energies:  [-8.57799655]\n",
      "state 0\n",
      "<Mz> =  (1.101610045857577e-15+0j)\n",
      "<Mx> =  (-0.7652005632197102+0j)\n"
     ]
    }
   ],
   "source": [
    "###### setting up bases ######\n",
    "basis = spin_basis_general(\n",
    "    L,\n",
    "    kxblock=(T_x, 0),\n",
    "    # pxblock=(P_x, 0)\n",
    ")\n",
    "\n",
    "#\n",
    "###### setting up TFIM hamiltonian ######\n",
    "# setting up site-coupling lists\n",
    "Ising_opspec = [[J, i, T_x[i]] for i in range(L)]\n",
    "gx_opspec = [[g, i] for i in range(L)]\n",
    "#\n",
    "static = [[\"zz\", Ising_opspec], [\"x\", gx_opspec]]\n",
    "# build hamiltonian\n",
    "H = hamiltonian(static, [], basis=basis, dtype=np.complex128)\n",
    "# diagonalise H\n",
    "e, psi = H.eigh()\n",
    "\n",
    "# Define observable Mz\n",
    "static_Mz = [[\"z\", [[1.0 / L,i] for i in range(L)]] ]\n",
    "static_Mx = [[\"x\", [[1.0 / L,i] for i in range(L)]] ]\n",
    "Mz = hamiltonian(static_Mz, [], basis=basis, dtype=np.complex128)\n",
    "Mx = hamiltonian(static_Mx, [], basis=basis, dtype=np.complex128)\n",
    "\n",
    "mask = (e - e[0]) < 1e-9\n",
    "\n",
    "print(\"ground state mfld energies: \",e[mask])\n",
    "\n",
    "for j in range(len(e[mask])):\n",
    "    print(f\"state {j}\")\n",
    "\n",
    "    print(\"<Mz> = \",np.conj(psi[:,j].T) @ Mz.dot(psi[:,j]))\n",
    "    print(\"<Mx> = \",np.conj(psi[:,j].T) @ Mx.dot(psi[:,j]))"
   ]
  },
  {
   "cell_type": "code",
   "execution_count": 94,
   "id": "6a14a802-5edf-4db9-9447-ebcdced192b8",
   "metadata": {},
   "outputs": [
    {
     "data": {
      "text/plain": [
       "array([[-6.],\n",
       "       [-6.]])"
      ]
     },
     "execution_count": 94,
     "metadata": {},
     "output_type": "execute_result"
    }
   ],
   "source": []
  },
  {
   "cell_type": "code",
   "execution_count": 33,
   "id": "330bcb93-8ea0-4f7d-9a7b-2442fac0e0fd",
   "metadata": {},
   "outputs": [
    {
     "data": {
      "text/plain": [
       "np.float64(-2.445960101127298e-16)"
      ]
     },
     "execution_count": 33,
     "metadata": {},
     "output_type": "execute_result"
    }
   ],
   "source": []
  },
  {
   "cell_type": "code",
   "execution_count": null,
   "id": "7505ef5b-9302-477e-9ceb-8fcbb677047f",
   "metadata": {},
   "outputs": [],
   "source": []
  }
 ],
 "metadata": {
  "kernelspec": {
   "display_name": "Python 3 (ipykernel)",
   "language": "python",
   "name": "python3"
  },
  "language_info": {
   "codemirror_mode": {
    "name": "ipython",
    "version": 3
   },
   "file_extension": ".py",
   "mimetype": "text/x-python",
   "name": "python",
   "nbconvert_exporter": "python",
   "pygments_lexer": "ipython3",
   "version": "3.12.5"
  }
 },
 "nbformat": 4,
 "nbformat_minor": 5
}
